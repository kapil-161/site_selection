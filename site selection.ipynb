{
 "cells": [
  {
   "cell_type": "code",
   "execution_count": 1,
   "metadata": {
    "colab": {},
    "colab_type": "code",
    "executionInfo": {
     "elapsed": 1158,
     "status": "ok",
     "timestamp": 1599563691077,
     "user": {
      "displayName": "kapil bhattarai",
      "photoUrl": "https://lh3.googleusercontent.com/a-/AOh14Gg7Qap7YzL-pZJb3i5BVCsw7pK18dUCvzTmZRiuY0E=s64",
      "userId": "08393951661011834469"
     },
     "user_tz": -345
    },
    "extensions": {
     "jupyter_dashboards": {
      "version": 1,
      "views": {
       "grid_default": {},
       "report_default": {}
      }
     }
    },
    "id": "Opmd3DYb33fQ",
    "slideshow": {
     "slide_type": "slide"
    }
   },
   "outputs": [],
   "source": [
    "from __future__ import division\n",
    "%matplotlib inline\n",
    "import sys\n",
    "import os\n",
    "import numpy as np\n",
    "import geopandas as gpd \n",
    "import cv2\n",
    "import matplotlib.pyplot as plt\n",
    "import pandas as pd\n",
    "import scipy\n",
    "import matplotlib.mlab as mlab\n",
    "import seaborn as sns\n",
    "from scipy import stats\n",
    "import statsmodels.formula.api as smfrmla\n",
    "import statsmodels.api as sm\n",
    "import contextily as ctx\n",
    "crs={'init':'epsg:4326'}\n"
   ]
  },
  {
   "cell_type": "code",
   "execution_count": 2,
   "metadata": {},
   "outputs": [],
   "source": [
    "df=pd.read_csv(\"hlb.csv\")\n",
    "import geopandas as gpd\n",
    "import pyproj\n",
    "coords = df[['Latitude','Longitude']]\n",
    "gpdfile = gpd.GeoDataFrame(\n",
    "    coords, geometry=gpd.points_from_xy(coords['Longitude'], coords['Latitude']), crs=\"EPSG:4326\")"
   ]
  },
  {
   "cell_type": "code",
   "execution_count": 3,
   "metadata": {},
   "outputs": [
    {
     "data": {
      "image/png": "[encoded data removed]",
      "text/plain": [
       "<Figure size 720x720 with 1 Axes>"
      ]
     },
     "metadata": {
      "needs_background": "light"
     },
     "output_type": "display_data"
    }
   ],
   "source": [
    "df = gpd.read_file(gpd.datasets.get_path('nybb'))\n",
    "ax = gpdfile.plot(figsize=(10, 10), alpha=0.5, edgecolor='k')"
   ]
  },
  {
   "cell_type": "code",
   "execution_count": 4,
   "metadata": {},
   "outputs": [
    {
     "data": {
      "text/html": [
       "<div>\n",
       "<style scoped>\n",
       "    .dataframe tbody tr th:only-of-type {\n",
       "        vertical-align: middle;\n",
       "    }\n",
       "\n",
       "    .dataframe tbody tr th {\n",
       "        vertical-align: top;\n",
       "    }\n",
       "\n",
       "    .dataframe thead th {\n",
       "        text-align: right;\n",
       "    }\n",
       "</style>\n",
       "<table border=\"1\" class=\"dataframe\">\n",
       "  <thead>\n",
       "    <tr style=\"text-align: right;\">\n",
       "      <th></th>\n",
       "      <th>S.N.</th>\n",
       "      <th>Farmer's Name</th>\n",
       "      <th>Address</th>\n",
       "      <th>Longitude</th>\n",
       "      <th>Latitude</th>\n",
       "      <th>Slope facing</th>\n",
       "      <th>Altitude</th>\n",
       "      <th>Starch-iodine test</th>\n",
       "      <th>Disease Scale</th>\n",
       "    </tr>\n",
       "  </thead>\n",
       "  <tbody>\n",
       "    <tr>\n",
       "      <th>0</th>\n",
       "      <td>1</td>\n",
       "      <td>Khadga Sunar</td>\n",
       "      <td>Dullu-11,kalbhairab</td>\n",
       "      <td>81.614168</td>\n",
       "      <td>28.861535</td>\n",
       "      <td>East</td>\n",
       "      <td>1321</td>\n",
       "      <td>Negative</td>\n",
       "      <td>0</td>\n",
       "    </tr>\n",
       "    <tr>\n",
       "      <th>1</th>\n",
       "      <td>2</td>\n",
       "      <td>Hire Sunar</td>\n",
       "      <td>Dullu-11,kalbhairab</td>\n",
       "      <td>81.607863</td>\n",
       "      <td>28.864925</td>\n",
       "      <td>North East</td>\n",
       "      <td>1416</td>\n",
       "      <td>Negative</td>\n",
       "      <td>0</td>\n",
       "    </tr>\n",
       "    <tr>\n",
       "      <th>2</th>\n",
       "      <td>3</td>\n",
       "      <td>Dipendra Malla</td>\n",
       "      <td>Dullu-11,kalbhairab</td>\n",
       "      <td>81.605558</td>\n",
       "      <td>28.854821</td>\n",
       "      <td>East</td>\n",
       "      <td>1436</td>\n",
       "      <td>Negative</td>\n",
       "      <td>0</td>\n",
       "    </tr>\n",
       "    <tr>\n",
       "      <th>3</th>\n",
       "      <td>4</td>\n",
       "      <td>Chhabilal Bogati</td>\n",
       "      <td>Dullu-11,kalbhairab</td>\n",
       "      <td>81.610642</td>\n",
       "      <td>28.849538</td>\n",
       "      <td>East</td>\n",
       "      <td>1446</td>\n",
       "      <td>Positive</td>\n",
       "      <td>2</td>\n",
       "    </tr>\n",
       "    <tr>\n",
       "      <th>4</th>\n",
       "      <td>5</td>\n",
       "      <td>Dambar Bahadur Thapa</td>\n",
       "      <td>Dullu-11,kalbhairab</td>\n",
       "      <td>81.665850</td>\n",
       "      <td>28.805139</td>\n",
       "      <td>East</td>\n",
       "      <td>1151</td>\n",
       "      <td>Positive</td>\n",
       "      <td>1</td>\n",
       "    </tr>\n",
       "    <tr>\n",
       "      <th>5</th>\n",
       "      <td>6</td>\n",
       "      <td>Suman Bogati</td>\n",
       "      <td>Dullu-11,kalbhairab</td>\n",
       "      <td>81.665883</td>\n",
       "      <td>28.805133</td>\n",
       "      <td>East</td>\n",
       "      <td>1154</td>\n",
       "      <td>Positive</td>\n",
       "      <td>1</td>\n",
       "    </tr>\n",
       "    <tr>\n",
       "      <th>6</th>\n",
       "      <td>7</td>\n",
       "      <td>Bhim Bahadur Bogati</td>\n",
       "      <td>Dullu-11,kalbhairab</td>\n",
       "      <td>81.662113</td>\n",
       "      <td>28.803328</td>\n",
       "      <td>East</td>\n",
       "      <td>1263</td>\n",
       "      <td>Positive</td>\n",
       "      <td>1</td>\n",
       "    </tr>\n",
       "    <tr>\n",
       "      <th>7</th>\n",
       "      <td>8</td>\n",
       "      <td>Haris Nepali</td>\n",
       "      <td>Dullu-11,kalbhairab</td>\n",
       "      <td>81.662630</td>\n",
       "      <td>28.799559</td>\n",
       "      <td>North</td>\n",
       "      <td>1291</td>\n",
       "      <td>Negative</td>\n",
       "      <td>0</td>\n",
       "    </tr>\n",
       "    <tr>\n",
       "      <th>8</th>\n",
       "      <td>9</td>\n",
       "      <td>Resham Khatri</td>\n",
       "      <td>Dullu-11,kalbhairab</td>\n",
       "      <td>81.660704</td>\n",
       "      <td>28.798335</td>\n",
       "      <td>North</td>\n",
       "      <td>1341</td>\n",
       "      <td>Negative</td>\n",
       "      <td>0</td>\n",
       "    </tr>\n",
       "    <tr>\n",
       "      <th>9</th>\n",
       "      <td>10</td>\n",
       "      <td>Ram Bahadur Khadka</td>\n",
       "      <td>Dullu-11,kalbhairab</td>\n",
       "      <td>81.660282</td>\n",
       "      <td>28.802015</td>\n",
       "      <td>North</td>\n",
       "      <td>1298</td>\n",
       "      <td>Negative</td>\n",
       "      <td>0</td>\n",
       "    </tr>\n",
       "    <tr>\n",
       "      <th>10</th>\n",
       "      <td>11</td>\n",
       "      <td>Kal Bahadur Khadka</td>\n",
       "      <td>Dullu-11,kalbhairab</td>\n",
       "      <td>81.663744</td>\n",
       "      <td>28.804324</td>\n",
       "      <td>North East</td>\n",
       "      <td>1253</td>\n",
       "      <td>Negative</td>\n",
       "      <td>0</td>\n",
       "    </tr>\n",
       "    <tr>\n",
       "      <th>11</th>\n",
       "      <td>12</td>\n",
       "      <td>Chandra B.K</td>\n",
       "      <td>Dullu-11,kalbhairab</td>\n",
       "      <td>81.658775</td>\n",
       "      <td>28.803016</td>\n",
       "      <td>North East</td>\n",
       "      <td>1333</td>\n",
       "      <td>Negative</td>\n",
       "      <td>0</td>\n",
       "    </tr>\n",
       "    <tr>\n",
       "      <th>12</th>\n",
       "      <td>13</td>\n",
       "      <td>Bude B.K</td>\n",
       "      <td>Dullu-11,kalbhairab</td>\n",
       "      <td>81.656251</td>\n",
       "      <td>28.805401</td>\n",
       "      <td>North East</td>\n",
       "      <td>1436</td>\n",
       "      <td>Negative</td>\n",
       "      <td>0</td>\n",
       "    </tr>\n",
       "    <tr>\n",
       "      <th>13</th>\n",
       "      <td>14</td>\n",
       "      <td>Jagat Rijal</td>\n",
       "      <td>Dullu-5, Ranukhana</td>\n",
       "      <td>81.609741</td>\n",
       "      <td>28.854811</td>\n",
       "      <td>North East</td>\n",
       "      <td>1309</td>\n",
       "      <td>Positive</td>\n",
       "      <td>2</td>\n",
       "    </tr>\n",
       "    <tr>\n",
       "      <th>14</th>\n",
       "      <td>15</td>\n",
       "      <td>Hari Rijal</td>\n",
       "      <td>Dullu-5, Ranukhana</td>\n",
       "      <td>81.609722</td>\n",
       "      <td>28.855300</td>\n",
       "      <td>North East</td>\n",
       "      <td>1311</td>\n",
       "      <td>Positive</td>\n",
       "      <td>2</td>\n",
       "    </tr>\n",
       "    <tr>\n",
       "      <th>15</th>\n",
       "      <td>16</td>\n",
       "      <td>Sitaram Rijal</td>\n",
       "      <td>Dullu-5, Ranukhana</td>\n",
       "      <td>81.610074</td>\n",
       "      <td>29.854900</td>\n",
       "      <td>North East</td>\n",
       "      <td>1299</td>\n",
       "      <td>Negative</td>\n",
       "      <td>0</td>\n",
       "    </tr>\n",
       "    <tr>\n",
       "      <th>16</th>\n",
       "      <td>17</td>\n",
       "      <td>Elina Rijal</td>\n",
       "      <td>Dullu-5, Ranukhana</td>\n",
       "      <td>81.610209</td>\n",
       "      <td>28.855317</td>\n",
       "      <td>North</td>\n",
       "      <td>1296</td>\n",
       "      <td>Negative</td>\n",
       "      <td>0</td>\n",
       "    </tr>\n",
       "    <tr>\n",
       "      <th>17</th>\n",
       "      <td>18</td>\n",
       "      <td>Champhe Sarki</td>\n",
       "      <td>Dullu-5, Ranukhana</td>\n",
       "      <td>81.608003</td>\n",
       "      <td>28.860244</td>\n",
       "      <td>North East</td>\n",
       "      <td>1331</td>\n",
       "      <td>Negative</td>\n",
       "      <td>0</td>\n",
       "    </tr>\n",
       "    <tr>\n",
       "      <th>18</th>\n",
       "      <td>19</td>\n",
       "      <td>Saru Sarki</td>\n",
       "      <td>Dullu-5, Ranukhana</td>\n",
       "      <td>81.609026</td>\n",
       "      <td>20.858901</td>\n",
       "      <td>North East</td>\n",
       "      <td>1292</td>\n",
       "      <td>Negative</td>\n",
       "      <td>0</td>\n",
       "    </tr>\n",
       "    <tr>\n",
       "      <th>19</th>\n",
       "      <td>20</td>\n",
       "      <td>Surendra Rijal</td>\n",
       "      <td>Dullu-5, Ranukhana</td>\n",
       "      <td>81.610508</td>\n",
       "      <td>28.854921</td>\n",
       "      <td>North East</td>\n",
       "      <td>1276</td>\n",
       "      <td>Positive</td>\n",
       "      <td>1</td>\n",
       "    </tr>\n",
       "    <tr>\n",
       "      <th>20</th>\n",
       "      <td>21</td>\n",
       "      <td>Mahadev Upadhyay</td>\n",
       "      <td>Dullu-5</td>\n",
       "      <td>81.605227</td>\n",
       "      <td>20.856151</td>\n",
       "      <td>North East</td>\n",
       "      <td>1180</td>\n",
       "      <td>Positive</td>\n",
       "      <td>2</td>\n",
       "    </tr>\n",
       "  </tbody>\n",
       "</table>\n",
       "</div>"
      ],
      "text/plain": [
       "    S.N.         Farmer's Name              Address  Longitude   Latitude  \\\n",
       "0      1          Khadga Sunar  Dullu-11,kalbhairab  81.614168  28.861535   \n",
       "1      2            Hire Sunar  Dullu-11,kalbhairab  81.607863  28.864925   \n",
       "2      3        Dipendra Malla  Dullu-11,kalbhairab  81.605558  28.854821   \n",
       "3      4      Chhabilal Bogati  Dullu-11,kalbhairab  81.610642  28.849538   \n",
       "4      5  Dambar Bahadur Thapa  Dullu-11,kalbhairab  81.665850  28.805139   \n",
       "5      6          Suman Bogati  Dullu-11,kalbhairab  81.665883  28.805133   \n",
       "6      7   Bhim Bahadur Bogati  Dullu-11,kalbhairab  81.662113  28.803328   \n",
       "7      8          Haris Nepali  Dullu-11,kalbhairab  81.662630  28.799559   \n",
       "8      9         Resham Khatri  Dullu-11,kalbhairab  81.660704  28.798335   \n",
       "9     10    Ram Bahadur Khadka  Dullu-11,kalbhairab  81.660282  28.802015   \n",
       "10    11    Kal Bahadur Khadka  Dullu-11,kalbhairab  81.663744  28.804324   \n",
       "11    12           Chandra B.K  Dullu-11,kalbhairab  81.658775  28.803016   \n",
       "12    13              Bude B.K  Dullu-11,kalbhairab  81.656251  28.805401   \n",
       "13    14           Jagat Rijal   Dullu-5, Ranukhana  81.609741  28.854811   \n",
       "14    15            Hari Rijal   Dullu-5, Ranukhana  81.609722  28.855300   \n",
       "15    16         Sitaram Rijal   Dullu-5, Ranukhana  81.610074  29.854900   \n",
       "16    17           Elina Rijal   Dullu-5, Ranukhana  81.610209  28.855317   \n",
       "17    18         Champhe Sarki   Dullu-5, Ranukhana  81.608003  28.860244   \n",
       "18    19            Saru Sarki   Dullu-5, Ranukhana  81.609026  20.858901   \n",
       "19    20        Surendra Rijal   Dullu-5, Ranukhana  81.610508  28.854921   \n",
       "20    21      Mahadev Upadhyay              Dullu-5  81.605227  20.856151   \n",
       "\n",
       "   Slope facing  Altitude Starch-iodine test  Disease Scale  \n",
       "0          East      1321           Negative              0  \n",
       "1    North East      1416           Negative              0  \n",
       "2          East      1436           Negative              0  \n",
       "3          East      1446           Positive              2  \n",
       "4          East      1151           Positive              1  \n",
       "5          East      1154           Positive              1  \n",
       "6          East      1263           Positive              1  \n",
       "7         North      1291           Negative              0  \n",
       "8         North      1341           Negative              0  \n",
       "9         North      1298           Negative              0  \n",
       "10   North East      1253           Negative              0  \n",
       "11   North East      1333           Negative              0  \n",
       "12   North East      1436           Negative              0  \n",
       "13   North East      1309           Positive              2  \n",
       "14   North East      1311           Positive              2  \n",
       "15   North East      1299           Negative              0  \n",
       "16        North      1296           Negative              0  \n",
       "17   North East      1331           Negative              0  \n",
       "18   North East      1292           Negative              0  \n",
       "19   North East      1276           Positive              1  \n",
       "20   North East      1180           Positive              2  "
      ]
     },
     "execution_count": 4,
     "metadata": {},
     "output_type": "execute_result"
    }
   ],
   "source": [
    "df=pd.read_csv(\"hlb.csv\")\n",
    "df"
   ]
  },
  {
   "cell_type": "markdown",
   "metadata": {
    "colab": {},
    "colab_type": "code",
    "id": "qg4m3yUL7z_w",
    "slideshow": {
     "slide_type": "slide"
    }
   },
   "source": [
    "!pip install -U -q PyDrive\n",
    "from pydrive.auth import GoogleAuth\n",
    "from pydrive.drive import GoogleDrive\n",
    "from google.colab import auth\n",
    "from oauth2client.client import GoogleCredentials"
   ]
  },
  {
   "cell_type": "markdown",
   "metadata": {
    "colab": {
     "base_uri": "https://localhost:8080/",
     "height": 124
    },
    "colab_type": "code",
    "executionInfo": {
     "elapsed": 59527,
     "status": "ok",
     "timestamp": 1599549441907,
     "user": {
      "displayName": "kapil bhattarai",
      "photoUrl": "https://lh3.googleusercontent.com/a-/AOh14Gg7Qap7YzL-pZJb3i5BVCsw7pK18dUCvzTmZRiuY0E=s64",
      "userId": "08393951661011834469"
     },
     "user_tz": -345
    },
    "id": "Kf8xpcycknyF",
    "outputId": "1c4baae9-3267-4010-f953-ccca6dec5f30",
    "slideshow": {
     "slide_type": "slide"
    }
   },
   "source": [
    "from google.colab import drive\n",
    "drive.mount('/content/drive')"
   ]
  },
  {
   "cell_type": "markdown",
   "metadata": {
    "colab": {},
    "colab_type": "code",
    "executionInfo": {
     "elapsed": 6819,
     "status": "ok",
     "timestamp": 1599563714200,
     "user": {
      "displayName": "kapil bhattarai",
      "photoUrl": "https://lh3.googleusercontent.com/a-/AOh14Gg7Qap7YzL-pZJb3i5BVCsw7pK18dUCvzTmZRiuY0E=s64",
      "userId": "08393951661011834469"
     },
     "user_tz": -345
    },
    "extensions": {
     "jupyter_dashboards": {
      "version": 1,
      "views": {
       "grid_default": {},
       "report_default": {}
      }
     }
    },
    "id": "M-hIjk5N33fZ",
    "slideshow": {
     "slide_type": "slide"
    }
   },
   "source": [
    "sett = gpd.read_file('/content/drive/My Drive/Colab/jupyter/site selection/settl_pt.shp')\n",
    "dist = gpd.read_file('/content/drive/My Drive/Colab/jupyter/site selection/districts.shp')\n",
    "landslide = gpd.read_file('/content/drive/My Drive/Colab/jupyter/site selection/npl_landslidesp_unosat_150505.shp')\n",
    "hydro = gpd.read_file('/content/drive/My Drive/Colab/jupyter/site selection/hydro_ln.shp')\n",
    "tran = gpd.read_file('/content/drive/My Drive/Colab/jupyter/site selection/trans_ln.shp')\n",
    "roads = gpd.read_file('/content/drive/My Drive/Colab/jupyter/site selection/roads.shp')\n",
    "land= gpd.read_file('/content/drive/My Drive/Colab/jupyter/site selection/landuse.shp')"
   ]
  },
  {
   "cell_type": "code",
   "execution_count": 7,
   "metadata": {},
   "outputs": [
    {
     "ename": "CRSError",
     "evalue": "Invalid projection: epsg:8848: (Internal Proj Error: proj_create: crs not found)",
     "output_type": "error",
     "traceback": [
      "\u001b[1;31m---------------------------------------------------------------------------\u001b[0m",
      "\u001b[1;31mCRSError\u001b[0m                                  Traceback (most recent call last)",
      "\u001b[1;32m<ipython-input-7-09eef5df70d7>\u001b[0m in \u001b[0;36m<module>\u001b[1;34m\u001b[0m\n\u001b[1;32m----> 1\u001b[1;33m \u001b[0mdist\u001b[0m\u001b[1;33m=\u001b[0m\u001b[0mgpd\u001b[0m\u001b[1;33m.\u001b[0m\u001b[0mread_file\u001b[0m\u001b[1;33m(\u001b[0m\u001b[1;34m\"districts.shp\"\u001b[0m\u001b[1;33m)\u001b[0m\u001b[1;33m\u001b[0m\u001b[1;33m\u001b[0m\u001b[0m\n\u001b[0m",
      "\u001b[1;32m~\\anaconda3\\lib\\site-packages\\geopandas\\io\\file.py\u001b[0m in \u001b[0;36m_read_file\u001b[1;34m(filename, bbox, mask, rows, **kwargs)\u001b[0m\n\u001b[0;32m    201\u001b[0m                 )\n\u001b[0;32m    202\u001b[0m \u001b[1;33m\u001b[0m\u001b[0m\n\u001b[1;32m--> 203\u001b[1;33m             return GeoDataFrame.from_features(\n\u001b[0m\u001b[0;32m    204\u001b[0m                 \u001b[0mf_filt\u001b[0m\u001b[1;33m,\u001b[0m \u001b[0mcrs\u001b[0m\u001b[1;33m=\u001b[0m\u001b[0mcrs\u001b[0m\u001b[1;33m,\u001b[0m \u001b[0mcolumns\u001b[0m\u001b[1;33m=\u001b[0m\u001b[0mcolumns\u001b[0m \u001b[1;33m+\u001b[0m \u001b[1;33m[\u001b[0m\u001b[1;34m\"geometry\"\u001b[0m\u001b[1;33m]\u001b[0m\u001b[1;33m\u001b[0m\u001b[1;33m\u001b[0m\u001b[0m\n\u001b[0;32m    205\u001b[0m             )\n",
      "\u001b[1;32m~\\anaconda3\\lib\\site-packages\\geopandas\\geodataframe.py\u001b[0m in \u001b[0;36mfrom_features\u001b[1;34m(cls, features, crs, columns)\u001b[0m\n\u001b[0;32m    585\u001b[0m             \u001b[0mrow\u001b[0m\u001b[1;33m.\u001b[0m\u001b[0mupdate\u001b[0m\u001b[1;33m(\u001b[0m\u001b[0mfeature\u001b[0m\u001b[1;33m[\u001b[0m\u001b[1;34m\"properties\"\u001b[0m\u001b[1;33m]\u001b[0m\u001b[1;33m)\u001b[0m\u001b[1;33m\u001b[0m\u001b[1;33m\u001b[0m\u001b[0m\n\u001b[0;32m    586\u001b[0m             \u001b[0mrows\u001b[0m\u001b[1;33m.\u001b[0m\u001b[0mappend\u001b[0m\u001b[1;33m(\u001b[0m\u001b[0mrow\u001b[0m\u001b[1;33m)\u001b[0m\u001b[1;33m\u001b[0m\u001b[1;33m\u001b[0m\u001b[0m\n\u001b[1;32m--> 587\u001b[1;33m         \u001b[1;32mreturn\u001b[0m \u001b[0mGeoDataFrame\u001b[0m\u001b[1;33m(\u001b[0m\u001b[0mrows\u001b[0m\u001b[1;33m,\u001b[0m \u001b[0mcolumns\u001b[0m\u001b[1;33m=\u001b[0m\u001b[0mcolumns\u001b[0m\u001b[1;33m,\u001b[0m \u001b[0mcrs\u001b[0m\u001b[1;33m=\u001b[0m\u001b[0mcrs\u001b[0m\u001b[1;33m)\u001b[0m\u001b[1;33m\u001b[0m\u001b[1;33m\u001b[0m\u001b[0m\n\u001b[0m\u001b[0;32m    588\u001b[0m \u001b[1;33m\u001b[0m\u001b[0m\n\u001b[0;32m    589\u001b[0m     \u001b[1;33m@\u001b[0m\u001b[0mclassmethod\u001b[0m\u001b[1;33m\u001b[0m\u001b[1;33m\u001b[0m\u001b[0m\n",
      "\u001b[1;32m~\\anaconda3\\lib\\site-packages\\geopandas\\geodataframe.py\u001b[0m in \u001b[0;36m__init__\u001b[1;34m(self, geometry, crs, *args, **kwargs)\u001b[0m\n\u001b[0;32m    107\u001b[0m         \u001b[1;31m# need to set this before calling self['geometry'], because\u001b[0m\u001b[1;33m\u001b[0m\u001b[1;33m\u001b[0m\u001b[1;33m\u001b[0m\u001b[0m\n\u001b[0;32m    108\u001b[0m         \u001b[1;31m# getitem accesses crs\u001b[0m\u001b[1;33m\u001b[0m\u001b[1;33m\u001b[0m\u001b[1;33m\u001b[0m\u001b[0m\n\u001b[1;32m--> 109\u001b[1;33m         \u001b[0mself\u001b[0m\u001b[1;33m.\u001b[0m\u001b[0m_crs\u001b[0m \u001b[1;33m=\u001b[0m \u001b[0mCRS\u001b[0m\u001b[1;33m.\u001b[0m\u001b[0mfrom_user_input\u001b[0m\u001b[1;33m(\u001b[0m\u001b[0mcrs\u001b[0m\u001b[1;33m)\u001b[0m \u001b[1;32mif\u001b[0m \u001b[0mcrs\u001b[0m \u001b[1;32melse\u001b[0m \u001b[1;32mNone\u001b[0m\u001b[1;33m\u001b[0m\u001b[1;33m\u001b[0m\u001b[0m\n\u001b[0m\u001b[0;32m    110\u001b[0m \u001b[1;33m\u001b[0m\u001b[0m\n\u001b[0;32m    111\u001b[0m         \u001b[1;31m# set_geometry ensures the geometry data have the proper dtype,\u001b[0m\u001b[1;33m\u001b[0m\u001b[1;33m\u001b[0m\u001b[1;33m\u001b[0m\u001b[0m\n",
      "\u001b[1;32m~\\anaconda3\\lib\\site-packages\\pyproj\\crs\\crs.py\u001b[0m in \u001b[0;36mfrom_user_input\u001b[1;34m(value, **kwargs)\u001b[0m\n\u001b[0;32m    438\u001b[0m         \u001b[1;32mif\u001b[0m \u001b[0misinstance\u001b[0m\u001b[1;33m(\u001b[0m\u001b[0mvalue\u001b[0m\u001b[1;33m,\u001b[0m \u001b[0mCRS\u001b[0m\u001b[1;33m)\u001b[0m\u001b[1;33m:\u001b[0m\u001b[1;33m\u001b[0m\u001b[1;33m\u001b[0m\u001b[0m\n\u001b[0;32m    439\u001b[0m             \u001b[1;32mreturn\u001b[0m \u001b[0mvalue\u001b[0m\u001b[1;33m\u001b[0m\u001b[1;33m\u001b[0m\u001b[0m\n\u001b[1;32m--> 440\u001b[1;33m         \u001b[1;32mreturn\u001b[0m \u001b[0mCRS\u001b[0m\u001b[1;33m(\u001b[0m\u001b[0mvalue\u001b[0m\u001b[1;33m,\u001b[0m \u001b[1;33m**\u001b[0m\u001b[0mkwargs\u001b[0m\u001b[1;33m)\u001b[0m\u001b[1;33m\u001b[0m\u001b[1;33m\u001b[0m\u001b[0m\n\u001b[0m\u001b[0;32m    441\u001b[0m \u001b[1;33m\u001b[0m\u001b[0m\n\u001b[0;32m    442\u001b[0m     \u001b[1;32mdef\u001b[0m \u001b[0mget_geod\u001b[0m\u001b[1;33m(\u001b[0m\u001b[0mself\u001b[0m\u001b[1;33m)\u001b[0m \u001b[1;33m->\u001b[0m \u001b[0mOptional\u001b[0m\u001b[1;33m[\u001b[0m\u001b[0mGeod\u001b[0m\u001b[1;33m]\u001b[0m\u001b[1;33m:\u001b[0m\u001b[1;33m\u001b[0m\u001b[1;33m\u001b[0m\u001b[0m\n",
      "\u001b[1;32m~\\anaconda3\\lib\\site-packages\\pyproj\\crs\\crs.py\u001b[0m in \u001b[0;36m__init__\u001b[1;34m(self, projparams, **kwargs)\u001b[0m\n\u001b[0;32m    294\u001b[0m             \u001b[0mprojstring\u001b[0m \u001b[1;33m=\u001b[0m \u001b[0m_prepare_from_string\u001b[0m\u001b[1;33m(\u001b[0m\u001b[1;34m\" \"\u001b[0m\u001b[1;33m.\u001b[0m\u001b[0mjoin\u001b[0m\u001b[1;33m(\u001b[0m\u001b[1;33m(\u001b[0m\u001b[0mprojstring\u001b[0m\u001b[1;33m,\u001b[0m \u001b[0mprojkwargs\u001b[0m\u001b[1;33m)\u001b[0m\u001b[1;33m)\u001b[0m\u001b[1;33m)\u001b[0m\u001b[1;33m\u001b[0m\u001b[1;33m\u001b[0m\u001b[0m\n\u001b[0;32m    295\u001b[0m \u001b[1;33m\u001b[0m\u001b[0m\n\u001b[1;32m--> 296\u001b[1;33m         \u001b[0msuper\u001b[0m\u001b[1;33m(\u001b[0m\u001b[1;33m)\u001b[0m\u001b[1;33m.\u001b[0m\u001b[0m__init__\u001b[0m\u001b[1;33m(\u001b[0m\u001b[0mprojstring\u001b[0m\u001b[1;33m)\u001b[0m\u001b[1;33m\u001b[0m\u001b[1;33m\u001b[0m\u001b[0m\n\u001b[0m\u001b[0;32m    297\u001b[0m \u001b[1;33m\u001b[0m\u001b[0m\n\u001b[0;32m    298\u001b[0m     \u001b[1;33m@\u001b[0m\u001b[0mstaticmethod\u001b[0m\u001b[1;33m\u001b[0m\u001b[1;33m\u001b[0m\u001b[0m\n",
      "\u001b[1;32mpyproj\\_crs.pyx\u001b[0m in \u001b[0;36mpyproj._crs._CRS.__init__\u001b[1;34m()\u001b[0m\n",
      "\u001b[1;31mCRSError\u001b[0m: Invalid projection: epsg:8848: (Internal Proj Error: proj_create: crs not found)"
     ]
    }
   ],
   "source": [
    "dist=gpd.read_file(\"districts.shp\")"
   ]
  },
  {
   "cell_type": "markdown",
   "metadata": {
    "colab_type": "text",
    "id": "RQl3V8yWpOsk",
    "slideshow": {
     "slide_type": "slide"
    }
   },
   "source": [
    "# New Section"
   ]
  },
  {
   "cell_type": "code",
   "execution_count": null,
   "metadata": {
    "colab": {
     "base_uri": "https://localhost:8080/",
     "height": 415
    },
    "colab_type": "code",
    "executionInfo": {
     "elapsed": 1343,
     "status": "ok",
     "timestamp": 1599563725908,
     "user": {
      "displayName": "kapil bhattarai",
      "photoUrl": "https://lh3.googleusercontent.com/a-/AOh14Gg7Qap7YzL-pZJb3i5BVCsw7pK18dUCvzTmZRiuY0E=s64",
      "userId": "08393951661011834469"
     },
     "user_tz": -345
    },
    "extensions": {
     "jupyter_dashboards": {
      "version": 1,
      "views": {
       "grid_default": {},
       "report_default": {}
      }
     }
    },
    "id": "iA2ZcjPS33fe",
    "outputId": "23d5dc48-9c93-47f8-c1f4-4250c5479f01",
    "slideshow": {
     "slide_type": "slide"
    }
   },
   "outputs": [],
   "source": [
    "sett"
   ]
  },
  {
   "cell_type": "code",
   "execution_count": null,
   "metadata": {
    "colab": {
     "base_uri": "https://localhost:8080/",
     "height": 591
    },
    "colab_type": "code",
    "executionInfo": {
     "elapsed": 2670,
     "status": "ok",
     "timestamp": 1599563734435,
     "user": {
      "displayName": "kapil bhattarai",
      "photoUrl": "https://lh3.googleusercontent.com/a-/AOh14Gg7Qap7YzL-pZJb3i5BVCsw7pK18dUCvzTmZRiuY0E=s64",
      "userId": "08393951661011834469"
     },
     "user_tz": -345
    },
    "extensions": {
     "jupyter_dashboards": {
      "version": 1,
      "views": {
       "grid_default": {},
       "report_default": {}
      }
     }
    },
    "id": "G7gULbgM33fj",
    "outputId": "0dca8d97-ed38-4966-cdd9-9446ed9b7912",
    "slideshow": {
     "slide_type": "slide"
    }
   },
   "outputs": [],
   "source": [
    "fig, ax = plt.subplots(1, figsize=(20, 10))\n",
    "\n",
    "sett.plot(column='DDVDC', cmap='Blues', linewidth=0.8,legend=True, ax=ax, edgecolor='0.8')"
   ]
  },
  {
   "cell_type": "code",
   "execution_count": null,
   "metadata": {
    "colab": {},
    "colab_type": "code",
    "extensions": {
     "jupyter_dashboards": {
      "version": 1,
      "views": {
       "grid_default": {},
       "report_default": {}
      }
     }
    },
    "id": "Yk0dR8PH33fn",
    "slideshow": {
     "slide_type": "slide"
    }
   },
   "outputs": [],
   "source": []
  },
  {
   "cell_type": "code",
   "execution_count": null,
   "metadata": {
    "colab": {
     "base_uri": "https://localhost:8080/",
     "height": 1000
    },
    "colab_type": "code",
    "executionInfo": {
     "elapsed": 3621,
     "status": "ok",
     "timestamp": 1599563750830,
     "user": {
      "displayName": "kapil bhattarai",
      "photoUrl": "https://lh3.googleusercontent.com/a-/AOh14Gg7Qap7YzL-pZJb3i5BVCsw7pK18dUCvzTmZRiuY0E=s64",
      "userId": "08393951661011834469"
     },
     "user_tz": -345
    },
    "extensions": {
     "jupyter_dashboards": {
      "version": 1,
      "views": {
       "grid_default": {},
       "report_default": {}
      }
     }
    },
    "id": "GL0LrSX533fr",
    "outputId": "3c452189-a20d-486e-81b3-a82c046aefa7",
    "slideshow": {
     "slide_type": "slide"
    }
   },
   "outputs": [],
   "source": [
    "pd.set_option('display.max_rows', dist.shape[0]+1)\n",
    "print(dist)"
   ]
  },
  {
   "cell_type": "code",
   "execution_count": null,
   "metadata": {
    "colab": {},
    "colab_type": "code",
    "executionInfo": {
     "elapsed": 1320,
     "status": "ok",
     "timestamp": 1599563766732,
     "user": {
      "displayName": "kapil bhattarai",
      "photoUrl": "https://lh3.googleusercontent.com/a-/AOh14Gg7Qap7YzL-pZJb3i5BVCsw7pK18dUCvzTmZRiuY0E=s64",
      "userId": "08393951661011834469"
     },
     "user_tz": -345
    },
    "extensions": {
     "jupyter_dashboards": {
      "version": 1,
      "views": {
       "grid_default": {},
       "report_default": {}
      }
     }
    },
    "id": "OwJo60fN33fx",
    "slideshow": {
     "slide_type": "slide"
    }
   },
   "outputs": [],
   "source": [
    "population=[257477,\n",
    "197632,\n",
    "268613,\n",
    "250898,\n",
    "195159,\n",
    "134912,\n",
    "491313,\n",
    "687708,\n",
    "426576,\n",
    "304651,\n",
    "182459,\n",
    "579984,\n",
    "142094,\n",
    "261770,\n",
    "552583,\n",
    "133274,\n",
    "336067,\n",
    "163412,\n",
    "754777,\n",
    "186557,\n",
    "36700,\n",
    "211746,\n",
    "271061,\n",
    "280160,\n",
    "50858,\n",
    "290254,\n",
    "171304,\n",
    "812650,\n",
    "108921,\n",
    "775709,\n",
    "136948,\n",
    "451248,\n",
    "571936,\n",
    "492098,\n",
    "1744240,\n",
    "381937,\n",
    "206312,\n",
    "468132,\n",
    "167724,\n",
    "627580,\n",
    "420477,\n",
    "6538,\n",
    "965370,\n",
    "55286,\n",
    "13452,\n",
    "113641,\n",
    "310864,\n",
    "332644,\n",
    "277471,\n",
    "147984,\n",
    "261180,\n",
    "191817,\n",
    "146590,\n",
    "601017,\n",
    "228102,\n",
    "202646,\n",
    "43300,\n",
    "686722,\n",
    "224506,\n",
    "53018,\n",
    "154272,\n",
    "880196,\n",
    "242444,\n",
    "158742,\n",
    "639284,\n",
    "769729,\n",
    "296192,\n",
    "287798,\n",
    "637328,\n",
    "105886,\n",
    "763487,\n",
    "350804,\n",
    "289148,\n",
    "323288,\n",
    "127461,\n",
    "101577,\n",
    "317532]\n",
    "\n",
    "\n"
   ]
  },
  {
   "cell_type": "code",
   "execution_count": null,
   "metadata": {
    "colab": {},
    "colab_type": "code",
    "executionInfo": {
     "elapsed": 1282,
     "status": "ok",
     "timestamp": 1599563778289,
     "user": {
      "displayName": "kapil bhattarai",
      "photoUrl": "https://lh3.googleusercontent.com/a-/AOh14Gg7Qap7YzL-pZJb3i5BVCsw7pK18dUCvzTmZRiuY0E=s64",
      "userId": "08393951661011834469"
     },
     "user_tz": -345
    },
    "extensions": {
     "jupyter_dashboards": {
      "version": 1,
      "views": {
       "grid_default": {},
       "report_default": {}
      }
     }
    },
    "id": "0KNsN03c33f5",
    "slideshow": {
     "slide_type": "slide"
    }
   },
   "outputs": [],
   "source": [
    "dist['population']=population"
   ]
  },
  {
   "cell_type": "code",
   "execution_count": null,
   "metadata": {
    "colab": {
     "base_uri": "https://localhost:8080/",
     "height": 1000
    },
    "colab_type": "code",
    "executionInfo": {
     "elapsed": 3613,
     "status": "ok",
     "timestamp": 1599563783987,
     "user": {
      "displayName": "kapil bhattarai",
      "photoUrl": "https://lh3.googleusercontent.com/a-/AOh14Gg7Qap7YzL-pZJb3i5BVCsw7pK18dUCvzTmZRiuY0E=s64",
      "userId": "08393951661011834469"
     },
     "user_tz": -345
    },
    "extensions": {
     "jupyter_dashboards": {
      "version": 1,
      "views": {
       "grid_default": {},
       "report_default": {}
      }
     }
    },
    "id": "T3g2jk6o33gC",
    "outputId": "a00fd5d6-f14b-462b-9bd1-819f1f8acbbd",
    "slideshow": {
     "slide_type": "slide"
    }
   },
   "outputs": [],
   "source": [
    "dist"
   ]
  },
  {
   "cell_type": "code",
   "execution_count": null,
   "metadata": {
    "colab": {
     "base_uri": "https://localhost:8080/",
     "height": 605
    },
    "colab_type": "code",
    "executionInfo": {
     "elapsed": 2612,
     "status": "ok",
     "timestamp": 1599563809616,
     "user": {
      "displayName": "kapil bhattarai",
      "photoUrl": "https://lh3.googleusercontent.com/a-/AOh14Gg7Qap7YzL-pZJb3i5BVCsw7pK18dUCvzTmZRiuY0E=s64",
      "userId": "08393951661011834469"
     },
     "user_tz": -345
    },
    "extensions": {
     "jupyter_dashboards": {
      "version": 1,
      "views": {
       "grid_default": {},
       "report_default": {}
      }
     }
    },
    "id": "y32MKoPr33gL",
    "outputId": "610d8793-4a5b-4ab6-955a-3d4f2a148544",
    "slideshow": {
     "slide_type": "slide"
    }
   },
   "outputs": [],
   "source": [
    "fig, ax = plt.subplots(1, figsize=(20, 10))\n",
    "\n",
    "dist.plot(column='population', cmap='Blues', linewidth=0.8,legend=True, ax=ax, edgecolor='0.8')"
   ]
  },
  {
   "cell_type": "code",
   "execution_count": null,
   "metadata": {
    "colab": {
     "base_uri": "https://localhost:8080/",
     "height": 171
    },
    "colab_type": "code",
    "executionInfo": {
     "elapsed": 1719,
     "status": "ok",
     "timestamp": 1599563837235,
     "user": {
      "displayName": "kapil bhattarai",
      "photoUrl": "https://lh3.googleusercontent.com/a-/AOh14Gg7Qap7YzL-pZJb3i5BVCsw7pK18dUCvzTmZRiuY0E=s64",
      "userId": "08393951661011834469"
     },
     "user_tz": -345
    },
    "extensions": {
     "jupyter_dashboards": {
      "version": 1,
      "views": {
       "grid_default": {},
       "report_default": {}
      }
     }
    },
    "id": "-5tve7SG33gU",
    "outputId": "f9f73f50-4965-4433-d793-54953c4aea93",
    "slideshow": {
     "slide_type": "slide"
    }
   },
   "outputs": [],
   "source": [
    "landslide"
   ]
  },
  {
   "cell_type": "code",
   "execution_count": null,
   "metadata": {
    "colab": {
     "base_uri": "https://localhost:8080/",
     "height": 133
    },
    "colab_type": "code",
    "executionInfo": {
     "elapsed": 1380,
     "status": "ok",
     "timestamp": 1599563848793,
     "user": {
      "displayName": "kapil bhattarai",
      "photoUrl": "https://lh3.googleusercontent.com/a-/AOh14Gg7Qap7YzL-pZJb3i5BVCsw7pK18dUCvzTmZRiuY0E=s64",
      "userId": "08393951661011834469"
     },
     "user_tz": -345
    },
    "extensions": {
     "jupyter_dashboards": {
      "version": 1,
      "views": {
       "grid_default": {},
       "report_default": {}
      }
     }
    },
    "id": "IwZ4IsXa33gc",
    "outputId": "97821bd0-1b84-41c5-cb6e-4dfd14209312",
    "slideshow": {
     "slide_type": "slide"
    }
   },
   "outputs": [],
   "source": [
    "landslide.plot()"
   ]
  },
  {
   "cell_type": "code",
   "execution_count": null,
   "metadata": {
    "colab": {
     "base_uri": "https://localhost:8080/",
     "height": 415
    },
    "colab_type": "code",
    "executionInfo": {
     "elapsed": 1530,
     "status": "ok",
     "timestamp": 1599563876772,
     "user": {
      "displayName": "kapil bhattarai",
      "photoUrl": "https://lh3.googleusercontent.com/a-/AOh14Gg7Qap7YzL-pZJb3i5BVCsw7pK18dUCvzTmZRiuY0E=s64",
      "userId": "08393951661011834469"
     },
     "user_tz": -345
    },
    "extensions": {
     "jupyter_dashboards": {
      "version": 1,
      "views": {
       "grid_default": {},
       "report_default": {}
      }
     }
    },
    "id": "XagBOLOy33gm",
    "outputId": "3d760457-ad38-45f1-e94f-78474e3049a0",
    "slideshow": {
     "slide_type": "slide"
    }
   },
   "outputs": [],
   "source": [
    "hydro"
   ]
  },
  {
   "cell_type": "code",
   "execution_count": null,
   "metadata": {
    "colab": {
     "base_uri": "https://localhost:8080/",
     "height": 601
    },
    "colab_type": "code",
    "executionInfo": {
     "elapsed": 10228,
     "status": "ok",
     "timestamp": 1599563894057,
     "user": {
      "displayName": "kapil bhattarai",
      "photoUrl": "https://lh3.googleusercontent.com/a-/AOh14Gg7Qap7YzL-pZJb3i5BVCsw7pK18dUCvzTmZRiuY0E=s64",
      "userId": "08393951661011834469"
     },
     "user_tz": -345
    },
    "id": "lZwr925IV74u",
    "outputId": "f918671f-c65b-4084-c8cf-37fc7c89a3e3",
    "slideshow": {
     "slide_type": "slide"
    }
   },
   "outputs": [],
   "source": [
    "hydro.plot(figsize=(20,10),column=hydro.LEVEL,legend=True)"
   ]
  },
  {
   "cell_type": "code",
   "execution_count": null,
   "metadata": {
    "colab": {
     "base_uri": "https://localhost:8080/",
     "height": 599
    },
    "colab_type": "code",
    "executionInfo": {
     "elapsed": 3253,
     "status": "ok",
     "timestamp": 1599563911834,
     "user": {
      "displayName": "kapil bhattarai",
      "photoUrl": "https://lh3.googleusercontent.com/a-/AOh14Gg7Qap7YzL-pZJb3i5BVCsw7pK18dUCvzTmZRiuY0E=s64",
      "userId": "08393951661011834469"
     },
     "user_tz": -345
    },
    "extensions": {
     "jupyter_dashboards": {
      "version": 1,
      "views": {
       "grid_default": {},
       "report_default": {}
      }
     }
    },
    "id": "sb-Ao1LE33gw",
    "outputId": "fbd93a08-8e72-472b-a4f4-e157f3117abd",
    "slideshow": {
     "slide_type": "slide"
    }
   },
   "outputs": [],
   "source": [
    "hydroo = hydro.loc[hydro['LEVEL'] >4]\n",
    "hydros= hydroo.to_crs(epsg=6207)\n",
    "fig, ax = plt.subplots(1, figsize=(20, 10))\n",
    "\n",
    "hydros.plot( cmap='Blues', linewidth=0.8,legend=True, ax=ax)\n",
    "ctx.add_basemap(ax,zoom='auto',url=ctx.providers.Stamen.Watercolor)"
   ]
  },
  {
   "cell_type": "code",
   "execution_count": null,
   "metadata": {
    "colab": {},
    "colab_type": "code",
    "extensions": {
     "jupyter_dashboards": {
      "version": 1,
      "views": {
       "grid_default": {},
       "report_default": {}
      }
     }
    },
    "id": "FDzVllTm33g3",
    "slideshow": {
     "slide_type": "slide"
    }
   },
   "outputs": [],
   "source": [
    "roads"
   ]
  },
  {
   "cell_type": "code",
   "execution_count": null,
   "metadata": {
    "colab": {
     "base_uri": "https://localhost:8080/",
     "height": 609
    },
    "colab_type": "code",
    "executionInfo": {
     "elapsed": 6805,
     "status": "ok",
     "timestamp": 1599563937197,
     "user": {
      "displayName": "kapil bhattarai",
      "photoUrl": "https://lh3.googleusercontent.com/a-/AOh14Gg7Qap7YzL-pZJb3i5BVCsw7pK18dUCvzTmZRiuY0E=s64",
      "userId": "08393951661011834469"
     },
     "user_tz": -345
    },
    "extensions": {
     "jupyter_dashboards": {
      "version": 1,
      "views": {
       "grid_default": {},
       "report_default": {}
      }
     }
    },
    "id": "YnA50Zlu33g_",
    "outputId": "d51ebf3d-11b3-432b-a1a3-1959269cd851"
   },
   "outputs": [],
   "source": [
    "fig, ax = plt.subplots(1, figsize=(20, 10))\n",
    "\n",
    "roads.plot( column='type', linewidth=1,legend=True, ax=ax)\n"
   ]
  },
  {
   "cell_type": "code",
   "execution_count": null,
   "metadata": {
    "colab": {
     "base_uri": "https://localhost:8080/",
     "height": 780
    },
    "colab_type": "code",
    "executionInfo": {
     "elapsed": 2217,
     "status": "ok",
     "timestamp": 1599563951898,
     "user": {
      "displayName": "kapil bhattarai",
      "photoUrl": "https://lh3.googleusercontent.com/a-/AOh14Gg7Qap7YzL-pZJb3i5BVCsw7pK18dUCvzTmZRiuY0E=s64",
      "userId": "08393951661011834469"
     },
     "user_tz": -345
    },
    "id": "98J9F4ry33hH",
    "outputId": "ebf7c3e8-1cae-44f2-bef1-a03d71debf74"
   },
   "outputs": [],
   "source": [
    "selroad = roads.loc[roads['type'] == 'primary']\n",
    "print (selroad)\n",
    "fig, ax = plt.subplots(1, figsize=(20, 10))\n",
    "x=selroad.plot( column='type', linewidth=1,legend=True, ax=ax)\n",
    "ctx.add_basemap(ax,zoom=7,url=ctx.providers.Stamen.Watercolor)"
   ]
  },
  {
   "cell_type": "code",
   "execution_count": null,
   "metadata": {
    "colab": {},
    "colab_type": "code",
    "extensions": {
     "jupyter_dashboards": {
      "version": 1,
      "views": {
       "grid_default": {},
       "report_default": {}
      }
     }
    },
    "id": "J25rBymB33hP"
   },
   "outputs": [],
   "source": [
    "land"
   ]
  },
  {
   "cell_type": "code",
   "execution_count": null,
   "metadata": {
    "colab": {
     "base_uri": "https://localhost:8080/",
     "height": 705
    },
    "colab_type": "code",
    "executionInfo": {
     "elapsed": 2979,
     "status": "ok",
     "timestamp": 1599563971432,
     "user": {
      "displayName": "kapil bhattarai",
      "photoUrl": "https://lh3.googleusercontent.com/a-/AOh14Gg7Qap7YzL-pZJb3i5BVCsw7pK18dUCvzTmZRiuY0E=s64",
      "userId": "08393951661011834469"
     },
     "user_tz": -345
    },
    "extensions": {
     "jupyter_dashboards": {
      "version": 1,
      "views": {
       "grid_default": {},
       "report_default": {}
      }
     }
    },
    "id": "37ynBEQb33hX",
    "outputId": "1fec7db9-a062-4420-b845-b4e2450f27b0"
   },
   "outputs": [],
   "source": [
    " fig, ax = plt.subplots(1, figsize=(20, 10))\n",
    "\n",
    "land.plot(column='type', ax=ax, legend=True)"
   ]
  },
  {
   "cell_type": "code",
   "execution_count": null,
   "metadata": {
    "colab": {
     "base_uri": "https://localhost:8080/",
     "height": 415
    },
    "colab_type": "code",
    "executionInfo": {
     "elapsed": 1351,
     "status": "ok",
     "timestamp": 1599563994532,
     "user": {
      "displayName": "kapil bhattarai",
      "photoUrl": "https://lh3.googleusercontent.com/a-/AOh14Gg7Qap7YzL-pZJb3i5BVCsw7pK18dUCvzTmZRiuY0E=s64",
      "userId": "08393951661011834469"
     },
     "user_tz": -345
    },
    "id": "7QBtfLMx33hf",
    "outputId": "3342944c-e852-4b69-c28c-34b426b99f59"
   },
   "outputs": [],
   "source": [
    "\n",
    "lands = land[land['type'].isin(['farm','grass','pond','residental'])]\n",
    "PALETTE = 'OrRd'\n",
    "lands\n"
   ]
  },
  {
   "cell_type": "code",
   "execution_count": null,
   "metadata": {
    "colab": {
     "base_uri": "https://localhost:8080/",
     "height": 671
    },
    "colab_type": "code",
    "executionInfo": {
     "elapsed": 5996,
     "status": "ok",
     "timestamp": 1599564015027,
     "user": {
      "displayName": "kapil bhattarai",
      "photoUrl": "https://lh3.googleusercontent.com/a-/AOh14Gg7Qap7YzL-pZJb3i5BVCsw7pK18dUCvzTmZRiuY0E=s64",
      "userId": "08393951661011834469"
     },
     "user_tz": -345
    },
    "id": "bYYkrW_9Ld2u",
    "outputId": "03bf802c-dcbb-49ae-dc8b-30c7b84b4a59"
   },
   "outputs": [],
   "source": [
    "landss= lands.to_crs(epsg=3004)\n",
    "ax=landss.plot(figsize=(20,10),column=\"type\",legend=True, marker='*')\n",
    "ctx.add_basemap(ax,zoom='auto',url=ctx.providers.Stamen.Watercolor)\n"
   ]
  }
 ],
 "metadata": {
  "celltoolbar": "Slideshow",
  "colab": {
   "collapsed_sections": [],
   "name": "site selection.ipynb",
   "provenance": []
  },
  "extensions": {
   "jupyter_dashboards": {
    "activeView": "grid_default",
    "version": 1,
    "views": {
     "grid_default": {
      "cellMargin": 10,
      "defaultCellHeight": 20,
      "maxColumns": 12,
      "name": "grid",
      "type": "grid"
     },
     "report_default": {
      "name": "report",
      "type": "report"
     }
    }
   }
  },
  "kernelspec": {
   "display_name": "Python 3",
   "language": "python",
   "name": "python3"
  },
  "language_info": {
   "codemirror_mode": {
    "name": "ipython",
    "version": 3
   },
   "file_extension": ".py",
   "mimetype": "text/x-python",
   "name": "python",
   "nbconvert_exporter": "python",
   "pygments_lexer": "ipython3",
   "version": "3.8.5"
  },
  "latex_envs": {
   "LaTeX_envs_menu_present": true,
   "autoclose": true,
   "autocomplete": true,
   "bibliofile": "biblio.bib",
   "cite_by": "apalike",
   "current_citInitial": 1,
   "eqLabelWithNumbers": true,
   "eqNumInitial": 1,
   "hotkeys": {
    "equation": "Ctrl-E",
    "itemize": "Ctrl-I"
   },
   "labels_anchors": false,
   "latex_user_defs": false,
   "report_style_numbering": false,
   "user_envs_cfg": false
  }
 },
 "nbformat": 4,
 "nbformat_minor": 1
}
